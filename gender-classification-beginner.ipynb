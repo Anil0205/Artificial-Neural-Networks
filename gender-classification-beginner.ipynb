{
 "cells": [
  {
   "cell_type": "markdown",
   "id": "847ee337",
   "metadata": {
    "papermill": {
     "duration": 0.031423,
     "end_time": "2022-03-20T18:17:54.581816",
     "exception": false,
     "start_time": "2022-03-20T18:17:54.550393",
     "status": "completed"
    },
    "tags": []
   },
   "source": [
    "# Introduction\n",
    "This dataset consist of male and female face images. We are going to try  deep learning techniques to predict images which it is a male face or female face.This is a beginner's kernel so every suggestions and advices are appreciated.\n",
    " \n",
    "<font color='yellow'>\n",
    "    \n",
    "Content:\n",
    "   \n",
    "1. [Load Dataset](#1)\n",
    "2. [Number of Train and Test Image](#2)\n",
    "3. [Two Image From Dataset](#3)\n",
    "4. [Process Dataset](#4)\n",
    "    * [Train Dataset](#5)\n",
    "    * [Test Dataset](#6)\n",
    "5. [Preparing Data for Process](#7)\n",
    "6. [Split Data with train_test_split](#8)\n",
    "7. [Logistic Regression Without Sklearn](#9)\n",
    "    * [Weights and Bias Initializing](#11)\n",
    "    * [Sigmoid Function](#10) \n",
    "    * [Forward Backward Propagation](#12)\n",
    "    * [Update](#13)\n",
    "    * [Predict](#14)\n",
    "    * [Logistic Regression](#15)\n",
    "    * [Time to See Results](#16)\n",
    "8. [Logistic Regression with Sklearn](#17)"
   ]
  },
  {
   "cell_type": "code",
   "execution_count": 1,
   "id": "b5af2b99",
   "metadata": {
    "execution": {
     "iopub.execute_input": "2022-03-20T18:17:54.650863Z",
     "iopub.status.busy": "2022-03-20T18:17:54.649974Z",
     "iopub.status.idle": "2022-03-20T18:17:56.108961Z",
     "shell.execute_reply": "2022-03-20T18:17:56.109525Z",
     "shell.execute_reply.started": "2022-03-20T16:31:08.257679Z"
    },
    "papermill": {
     "duration": 1.497119,
     "end_time": "2022-03-20T18:17:56.109813",
     "exception": false,
     "start_time": "2022-03-20T18:17:54.612694",
     "status": "completed"
    },
    "tags": []
   },
   "outputs": [],
   "source": [
    "import pandas as pd\n",
    "import numpy as np\n",
    "import seaborn as sns\n",
    "import matplotlib.pyplot as plt\n",
    "from warnings import filterwarnings\n",
    "filterwarnings(\"ignore\")\n",
    "import os\n",
    "from PIL import Image\n",
    "import cv2\n"
   ]
  },
  {
   "cell_type": "markdown",
   "id": "c27c0e4f",
   "metadata": {
    "papermill": {
     "duration": 0.028154,
     "end_time": "2022-03-20T18:17:56.166692",
     "exception": false,
     "start_time": "2022-03-20T18:17:56.138538",
     "status": "completed"
    },
    "tags": []
   },
   "source": [
    "<a id=\"1\"></a>\n",
    "## 1.Load Dataset"
   ]
  },
  {
   "cell_type": "code",
   "execution_count": 2,
   "id": "926f7e66",
   "metadata": {
    "execution": {
     "iopub.execute_input": "2022-03-20T18:17:56.228763Z",
     "iopub.status.busy": "2022-03-20T18:17:56.228039Z",
     "iopub.status.idle": "2022-03-20T18:17:56.229651Z",
     "shell.execute_reply": "2022-03-20T18:17:56.230068Z",
     "shell.execute_reply.started": "2022-03-20T16:31:12.139009Z"
    },
    "papermill": {
     "duration": 0.035154,
     "end_time": "2022-03-20T18:17:56.230243",
     "exception": false,
     "start_time": "2022-03-20T18:17:56.195089",
     "status": "completed"
    },
    "tags": []
   },
   "outputs": [],
   "source": [
    "train_path =\"../input/gender-classification-dataset/Training\"\n",
    "test_path =\"../input/gender-classification-dataset/Validation\"\n",
    "\n",
    "train_male = \"../input/gender-classification-dataset/Training/male\"\n",
    "train_female = \"../input/gender-classification-dataset/Training/female\"\n",
    "\n",
    "test_male = \"../input/gender-classification-dataset/Validation/male\"\n",
    "test_female = \"../input/gender-classification-dataset/Validation/female\""
   ]
  },
  {
   "cell_type": "markdown",
   "id": "866350fa",
   "metadata": {
    "papermill": {
     "duration": 0.028255,
     "end_time": "2022-03-20T18:17:56.287115",
     "exception": false,
     "start_time": "2022-03-20T18:17:56.258860",
     "status": "completed"
    },
    "tags": []
   },
   "source": [
    "<a id=\"2\"></a>\n",
    "## 2.Number of Train and Test Image"
   ]
  },
  {
   "cell_type": "code",
   "execution_count": 3,
   "id": "50bd4ac0",
   "metadata": {
    "execution": {
     "iopub.execute_input": "2022-03-20T18:17:56.349150Z",
     "iopub.status.busy": "2022-03-20T18:17:56.348508Z",
     "iopub.status.idle": "2022-03-20T18:17:57.687327Z",
     "shell.execute_reply": "2022-03-20T18:17:57.686859Z",
     "shell.execute_reply.started": "2022-03-20T16:31:13.623281Z"
    },
    "papermill": {
     "duration": 1.370421,
     "end_time": "2022-03-20T18:17:57.687464",
     "exception": false,
     "start_time": "2022-03-20T18:17:56.317043",
     "status": "completed"
    },
    "tags": []
   },
   "outputs": [
    {
     "data": {
      "image/png": "[encoded data removed]",
      "text/plain": [
       "<Figure size 432x288 with 1 Axes>"
      ]
     },
     "metadata": {
      "needs_background": "light"
     },
     "output_type": "display_data"
    }
   ],
   "source": [
    "category_names = os.listdir(train_path)\n",
    "num_category_names =len(category_names)\n",
    "train_images = []\n",
    "for category in category_names:\n",
    "    folder = train_path +\"/\"+ category\n",
    "    train_images.append(len(os.listdir(folder)))\n",
    "\n",
    "g = sns.barplot(x=category_names,y=train_images)\n",
    "g.set_title(\"Gender Category of Train Set\");"
   ]
  },
  {
   "cell_type": "code",
   "execution_count": 4,
   "id": "de7e7119",
   "metadata": {
    "execution": {
     "iopub.execute_input": "2022-03-20T18:17:57.751212Z",
     "iopub.status.busy": "2022-03-20T18:17:57.750584Z",
     "iopub.status.idle": "2022-03-20T18:17:58.583846Z",
     "shell.execute_reply": "2022-03-20T18:17:58.584414Z",
     "shell.execute_reply.started": "2022-03-20T16:31:14.871618Z"
    },
    "papermill": {
     "duration": 0.867627,
     "end_time": "2022-03-20T18:17:58.584655",
     "exception": false,
     "start_time": "2022-03-20T18:17:57.717028",
     "status": "completed"
    },
    "tags": []
   },
   "outputs": [
    {
     "data": {
      "image/png": "[encoded data removed]",
      "text/plain": [
       "<Figure size 432x288 with 1 Axes>"
      ]
     },
     "metadata": {
      "needs_background": "light"
     },
     "output_type": "display_data"
    }
   ],
   "source": [
    "test_images = []\n",
    "for category in category_names:\n",
    "    folder = test_path +\"/\"+ category\n",
    "    test_images.append(len(os.listdir(folder)))\n",
    "\n",
    "g = sns.barplot(x=category_names,y=test_images)\n",
    "g.set_title(\"Gender Category of test Set\");"
   ]
  },
  {
   "cell_type": "markdown",
   "id": "9745afb4",
   "metadata": {
    "papermill": {
     "duration": 0.029873,
     "end_time": "2022-03-20T18:17:58.646404",
     "exception": false,
     "start_time": "2022-03-20T18:17:58.616531",
     "status": "completed"
    },
    "tags": []
   },
   "source": [
    "<a id=\"3\"></a>\n",
    "## 3.Two Image From Dataset"
   ]
  },
  {
   "cell_type": "code",
   "execution_count": 5,
   "id": "e188db5a",
   "metadata": {
    "execution": {
     "iopub.execute_input": "2022-03-20T18:17:58.711521Z",
     "iopub.status.busy": "2022-03-20T18:17:58.710556Z",
     "iopub.status.idle": "2022-03-20T18:17:58.724245Z",
     "shell.execute_reply": "2022-03-20T18:17:58.724714Z",
     "shell.execute_reply.started": "2022-03-20T18:16:17.353691Z"
    },
    "papermill": {
     "duration": 0.048494,
     "end_time": "2022-03-20T18:17:58.724872",
     "exception": false,
     "start_time": "2022-03-20T18:17:58.676378",
     "status": "completed"
    },
    "tags": []
   },
   "outputs": [
    {
     "data": {
      "image/png": "[encoded data removed]",
      "text/plain": [
       "<PIL.JpegImagePlugin.JpegImageFile image mode=RGB size=92x114 at 0x7FF0E38B8150>"
      ]
     },
     "execution_count": 5,
     "metadata": {},
     "output_type": "execute_result"
    }
   ],
   "source": [
    "Image.open(\"../input/gender-classification-dataset/Training/female/131422.jpg.jpg\")"
   ]
  },
  {
   "cell_type": "code",
   "execution_count": 6,
   "id": "20745f8f",
   "metadata": {
    "execution": {
     "iopub.execute_input": "2022-03-20T18:17:58.791005Z",
     "iopub.status.busy": "2022-03-20T18:17:58.790436Z",
     "iopub.status.idle": "2022-03-20T18:17:58.804792Z",
     "shell.execute_reply": "2022-03-20T18:17:58.805251Z",
     "shell.execute_reply.started": "2022-03-20T16:31:17.127359Z"
    },
    "papermill": {
     "duration": 0.049443,
     "end_time": "2022-03-20T18:17:58.805414",
     "exception": false,
     "start_time": "2022-03-20T18:17:58.755971",
     "status": "completed"
    },
    "tags": []
   },
   "outputs": [
    {
     "data": {
      "image/png": "[encoded data removed]",
      "text/plain": [
       "<PIL.JpegImagePlugin.JpegImageFile image mode=RGB size=87x117 at 0x7FF0B2BC8BD0>"
      ]
     },
     "execution_count": 6,
     "metadata": {},
     "output_type": "execute_result"
    }
   ],
   "source": [
    "Image.open(\"../input/gender-classification-dataset/Training/male/090544.jpg.jpg\")"
   ]
  },
  {
   "cell_type": "markdown",
   "id": "538af768",
   "metadata": {
    "papermill": {
     "duration": 0.031132,
     "end_time": "2022-03-20T18:17:58.868841",
     "exception": false,
     "start_time": "2022-03-20T18:17:58.837709",
     "status": "completed"
    },
    "tags": []
   },
   "source": [
    "<a id=\"4\"></a>\n",
    "## 4.Process Dataset\n",
    "<a id=\"5\"></a>\n",
    "* ###      Train Dataset"
   ]
  },
  {
   "cell_type": "code",
   "execution_count": 7,
   "id": "6f30847f",
   "metadata": {
    "execution": {
     "iopub.execute_input": "2022-03-20T18:17:58.935713Z",
     "iopub.status.busy": "2022-03-20T18:17:58.934775Z",
     "iopub.status.idle": "2022-03-20T18:20:24.599660Z",
     "shell.execute_reply": "2022-03-20T18:20:24.600132Z",
     "shell.execute_reply.started": "2022-03-20T16:31:18.812286Z"
    },
    "papermill": {
     "duration": 145.699948,
     "end_time": "2022-03-20T18:20:24.600352",
     "exception": false,
     "start_time": "2022-03-20T18:17:58.900404",
     "status": "completed"
    },
    "tags": []
   },
   "outputs": [],
   "source": [
    "male_train=[]\n",
    "label = []\n",
    "for i in os.listdir(train_male):\n",
    "    if os.path.isfile(train_male+ \"/\" + i):\n",
    "        males = Image.open(train_male+\"/\"+i).convert(\"L\")# Converting grey scale\n",
    "        males = males.resize((50,50),Image.ANTIALIAS)\n",
    "        \n",
    "        males = np.asarray(males)/255.0# Normalizing Images\n",
    "        male_train.append(males)\n",
    "        label.append(1)# Label 1 for man"
   ]
  },
  {
   "cell_type": "code",
   "execution_count": 8,
   "id": "56ac8ac9",
   "metadata": {
    "execution": {
     "iopub.execute_input": "2022-03-20T18:20:24.670165Z",
     "iopub.status.busy": "2022-03-20T18:20:24.669556Z",
     "iopub.status.idle": "2022-03-20T18:23:02.952942Z",
     "shell.execute_reply": "2022-03-20T18:23:02.954049Z",
     "shell.execute_reply.started": "2022-03-20T16:34:33.818884Z"
    },
    "papermill": {
     "duration": 158.321531,
     "end_time": "2022-03-20T18:23:02.954310",
     "exception": false,
     "start_time": "2022-03-20T18:20:24.632779",
     "status": "completed"
    },
    "tags": []
   },
   "outputs": [],
   "source": [
    "female_train = []\n",
    "for i in os.listdir(train_female):\n",
    "    if os.path.isfile(train_female+ \"/\" + i):\n",
    "        females = Image.open(train_female+ \"/\" + i)\n",
    "        females = females.resize((50,50),Image.ANTIALIAS).convert(\"L\")#Converting grey scale\n",
    "        \n",
    "        females = np.asarray(females)/255.0 # Normalizing Images\n",
    "        \n",
    "        female_train.append(females)\n",
    "        label.append(0)# 0 for woman"
   ]
  },
  {
   "cell_type": "code",
   "execution_count": 9,
   "id": "2421c857",
   "metadata": {
    "execution": {
     "iopub.execute_input": "2022-03-20T18:23:03.023320Z",
     "iopub.status.busy": "2022-03-20T18:23:03.022410Z",
     "iopub.status.idle": "2022-03-20T18:23:03.903269Z",
     "shell.execute_reply": "2022-03-20T18:23:03.902622Z",
     "shell.execute_reply.started": "2022-03-20T16:37:12.970824Z"
    },
    "papermill": {
     "duration": 0.915046,
     "end_time": "2022-03-20T18:23:03.903418",
     "exception": false,
     "start_time": "2022-03-20T18:23:02.988372",
     "status": "completed"
    },
    "tags": []
   },
   "outputs": [],
   "source": [
    "x_train = np.concatenate((male_train,female_train),axis=0) # Training Dataset\n",
    "y_train = np.asarray(label)# Label array\n",
    "y_train = y_train.reshape(x_train.shape[0],1)\n"
   ]
  },
  {
   "cell_type": "code",
   "execution_count": 10,
   "id": "952b2b47",
   "metadata": {
    "execution": {
     "iopub.execute_input": "2022-03-20T18:23:03.974395Z",
     "iopub.status.busy": "2022-03-20T18:23:03.973749Z",
     "iopub.status.idle": "2022-03-20T18:23:04.293643Z",
     "shell.execute_reply": "2022-03-20T18:23:04.294576Z",
     "shell.execute_reply.started": "2022-03-20T16:37:32.166763Z"
    },
    "papermill": {
     "duration": 0.359088,
     "end_time": "2022-03-20T18:23:04.294840",
     "exception": false,
     "start_time": "2022-03-20T18:23:03.935752",
     "status": "completed"
    },
    "tags": []
   },
   "outputs": [
    {
     "name": "stdout",
     "output_type": "stream",
     "text": [
      "Woman Faces (23243, 50, 50) Man Faces (23766, 50, 50)\n",
      "Train Dataset (47009, 50, 50) Train Values (47009, 1)\n"
     ]
    }
   ],
   "source": [
    "print(\"Woman Faces\",np.shape(female_train),\"Man Faces\",np.shape(male_train))\n",
    "print(\"Train Dataset\",x_train.shape,\"Train Values\",y_train.shape)"
   ]
  },
  {
   "cell_type": "markdown",
   "id": "869d9c11",
   "metadata": {
    "papermill": {
     "duration": 0.031934,
     "end_time": "2022-03-20T18:23:04.359617",
     "exception": false,
     "start_time": "2022-03-20T18:23:04.327683",
     "status": "completed"
    },
    "tags": []
   },
   "source": [
    "<a id=\"6\"></a>\n",
    "* ### Test Dataset"
   ]
  },
  {
   "cell_type": "code",
   "execution_count": 11,
   "id": "5bda89e9",
   "metadata": {
    "execution": {
     "iopub.execute_input": "2022-03-20T18:23:04.429604Z",
     "iopub.status.busy": "2022-03-20T18:23:04.428926Z",
     "iopub.status.idle": "2022-03-20T18:23:41.432685Z",
     "shell.execute_reply": "2022-03-20T18:23:41.432136Z",
     "shell.execute_reply.started": "2022-03-20T16:39:14.29699Z"
    },
    "papermill": {
     "duration": 37.041046,
     "end_time": "2022-03-20T18:23:41.432831",
     "exception": false,
     "start_time": "2022-03-20T18:23:04.391785",
     "status": "completed"
    },
    "tags": []
   },
   "outputs": [],
   "source": [
    "male_test = []\n",
    "label2 = []\n",
    "for i in os.listdir(test_male):\n",
    "    if os.path.isfile(test_male+ \"/\" + i):\n",
    "        male_face = Image.open(test_male+ \"/\" + i).convert(\"L\")#Convert grey scale\n",
    "        male_face = male_face.resize((50,50),Image.ANTIALIAS)\n",
    "        \n",
    "        male_face = np.asarray(male_face)/255.0 # Normalizing Images\n",
    "        male_test.append(male_face)\n",
    "        label2.append(1)# 1 for man"
   ]
  },
  {
   "cell_type": "code",
   "execution_count": 12,
   "id": "0e3108b6",
   "metadata": {
    "execution": {
     "iopub.execute_input": "2022-03-20T18:23:41.503870Z",
     "iopub.status.busy": "2022-03-20T18:23:41.503158Z",
     "iopub.status.idle": "2022-03-20T18:24:16.717212Z",
     "shell.execute_reply": "2022-03-20T18:24:16.717659Z",
     "shell.execute_reply.started": "2022-03-20T16:39:29.595935Z"
    },
    "papermill": {
     "duration": 35.252247,
     "end_time": "2022-03-20T18:24:16.717854",
     "exception": false,
     "start_time": "2022-03-20T18:23:41.465607",
     "status": "completed"
    },
    "tags": []
   },
   "outputs": [],
   "source": [
    "female_test = []\n",
    "for i in os.listdir(test_female):\n",
    "    if os.path.isfile(test_female+\"/\"+i):\n",
    "        female_face = Image.open(test_female+\"/\"+i).convert(\"L\")#Convert grey scale\n",
    "        female_face = female_face.resize((50,50),Image.ANTIALIAS)\n",
    "        \n",
    "        female_face = np.asarray(female_face)/255.0# Normalizing Image\n",
    "        female_test.append(female_face)\n",
    "        label2.append(0)# 0 for  woman"
   ]
  },
  {
   "cell_type": "code",
   "execution_count": 13,
   "id": "0b99615f",
   "metadata": {
    "execution": {
     "iopub.execute_input": "2022-03-20T18:24:16.785379Z",
     "iopub.status.busy": "2022-03-20T18:24:16.784812Z",
     "iopub.status.idle": "2022-03-20T18:24:16.955847Z",
     "shell.execute_reply": "2022-03-20T18:24:16.956344Z",
     "shell.execute_reply.started": "2022-03-20T16:40:11.823317Z"
    },
    "papermill": {
     "duration": 0.205722,
     "end_time": "2022-03-20T18:24:16.956515",
     "exception": false,
     "start_time": "2022-03-20T18:24:16.750793",
     "status": "completed"
    },
    "tags": []
   },
   "outputs": [],
   "source": [
    "x_test = np.concatenate((male_test,female_test),axis=0)#test dataset\n",
    "y_test = np.asarray(label2)\n",
    "y_test = y_test.reshape(x_test.shape[0],1)\n"
   ]
  },
  {
   "cell_type": "code",
   "execution_count": 14,
   "id": "4a11ced0",
   "metadata": {
    "execution": {
     "iopub.execute_input": "2022-03-20T18:24:17.025042Z",
     "iopub.status.busy": "2022-03-20T18:24:17.024453Z",
     "iopub.status.idle": "2022-03-20T18:24:17.110026Z",
     "shell.execute_reply": "2022-03-20T18:24:17.109529Z",
     "shell.execute_reply.started": "2022-03-20T16:40:13.904465Z"
    },
    "papermill": {
     "duration": 0.121039,
     "end_time": "2022-03-20T18:24:17.110153",
     "exception": false,
     "start_time": "2022-03-20T18:24:16.989114",
     "status": "completed"
    },
    "tags": []
   },
   "outputs": [
    {
     "name": "stdout",
     "output_type": "stream",
     "text": [
      "Man Faces (5808, 50, 50) Female Faces (5841, 50, 50)\n",
      "Test Dataset (11649, 50, 50) Test Dataset Values (11649, 1)\n"
     ]
    }
   ],
   "source": [
    "print(\"Man Faces\",np.shape(male_test),\"Female Faces\",np.shape(female_test))\n",
    "print(\"Test Dataset\",x_test.shape,\"Test Dataset Values\",y_test.shape)"
   ]
  },
  {
   "cell_type": "markdown",
   "id": "5dc077c2",
   "metadata": {
    "papermill": {
     "duration": 0.032151,
     "end_time": "2022-03-20T18:24:17.174624",
     "exception": false,
     "start_time": "2022-03-20T18:24:17.142473",
     "status": "completed"
    },
    "tags": []
   },
   "source": [
    "<a id=\"7\"></a>\n",
    "## Preparing Data for Process\n",
    "\n",
    "We will concatenate test dataset and train dataset after that we need 2D for Logistic Regression Model so we will convert it to 2D."
   ]
  },
  {
   "cell_type": "code",
   "execution_count": 15,
   "id": "e54b0237",
   "metadata": {
    "execution": {
     "iopub.execute_input": "2022-03-20T18:24:17.251400Z",
     "iopub.status.busy": "2022-03-20T18:24:17.250080Z",
     "iopub.status.idle": "2022-03-20T18:24:17.775053Z",
     "shell.execute_reply": "2022-03-20T18:24:17.774504Z",
     "shell.execute_reply.started": "2022-03-20T16:45:06.695507Z"
    },
    "papermill": {
     "duration": 0.564961,
     "end_time": "2022-03-20T18:24:17.775201",
     "exception": false,
     "start_time": "2022-03-20T18:24:17.210240",
     "status": "completed"
    },
    "tags": []
   },
   "outputs": [],
   "source": [
    "x = np.concatenate((x_train,x_test),axis=0)\n",
    "y = np.concatenate((y_train,y_test),axis=0)\n",
    "\n",
    "x = x.reshape(x.shape[0],x.shape[1]*x.shape[2])# Convert 3D to 2D\n",
    "\n"
   ]
  },
  {
   "cell_type": "code",
   "execution_count": 16,
   "id": "192b7ab9",
   "metadata": {
    "execution": {
     "iopub.execute_input": "2022-03-20T18:24:17.845587Z",
     "iopub.status.busy": "2022-03-20T18:24:17.844891Z",
     "iopub.status.idle": "2022-03-20T18:24:17.848034Z",
     "shell.execute_reply": "2022-03-20T18:24:17.848539Z",
     "shell.execute_reply.started": "2022-03-20T16:45:46.438793Z"
    },
    "papermill": {
     "duration": 0.040724,
     "end_time": "2022-03-20T18:24:17.848699",
     "exception": false,
     "start_time": "2022-03-20T18:24:17.807975",
     "status": "completed"
    },
    "tags": []
   },
   "outputs": [
    {
     "name": "stdout",
     "output_type": "stream",
     "text": [
      "x shape:(58658, 2500)\n",
      "y shape(58658, 1)\n"
     ]
    }
   ],
   "source": [
    "print(\"x shape:{}\\ny shape{}\".format(x.shape,y.shape))"
   ]
  },
  {
   "cell_type": "markdown",
   "id": "551951a7",
   "metadata": {
    "papermill": {
     "duration": 0.031956,
     "end_time": "2022-03-20T18:24:17.914004",
     "exception": false,
     "start_time": "2022-03-20T18:24:17.882048",
     "status": "completed"
    },
    "tags": []
   },
   "source": [
    "<a id=\"8\"></a>\n",
    "## Split Data with train_test_split\n",
    "\n",
    "**Now we have two array, x array contains our images, y contains our values 0(woman) and 1(man). Thanks to, train_test_split method, we will divide our data** "
   ]
  },
  {
   "cell_type": "code",
   "execution_count": 17,
   "id": "b842bff5",
   "metadata": {
    "execution": {
     "iopub.execute_input": "2022-03-20T18:24:17.982819Z",
     "iopub.status.busy": "2022-03-20T18:24:17.982202Z",
     "iopub.status.idle": "2022-03-20T18:24:18.175054Z",
     "shell.execute_reply": "2022-03-20T18:24:18.175584Z",
     "shell.execute_reply.started": "2022-03-20T18:08:11.333962Z"
    },
    "papermill": {
     "duration": 0.229679,
     "end_time": "2022-03-20T18:24:18.175772",
     "exception": false,
     "start_time": "2022-03-20T18:24:17.946093",
     "status": "completed"
    },
    "tags": []
   },
   "outputs": [],
   "source": [
    "from sklearn.model_selection import train_test_split"
   ]
  },
  {
   "cell_type": "code",
   "execution_count": 18,
   "id": "149b5c68",
   "metadata": {
    "execution": {
     "iopub.execute_input": "2022-03-20T18:24:18.244744Z",
     "iopub.status.busy": "2022-03-20T18:24:18.244122Z",
     "iopub.status.idle": "2022-03-20T18:24:18.725380Z",
     "shell.execute_reply": "2022-03-20T18:24:18.725815Z",
     "shell.execute_reply.started": "2022-03-20T16:51:37.624761Z"
    },
    "papermill": {
     "duration": 0.517493,
     "end_time": "2022-03-20T18:24:18.725991",
     "exception": false,
     "start_time": "2022-03-20T18:24:18.208498",
     "status": "completed"
    },
    "tags": []
   },
   "outputs": [],
   "source": [
    "X_train,X_test,Y_train,Y_test = train_test_split(x,y,\n",
    "                                                 test_size=0.2,\n",
    "                                                 random_state=42)"
   ]
  },
  {
   "cell_type": "code",
   "execution_count": 19,
   "id": "490cf350",
   "metadata": {
    "execution": {
     "iopub.execute_input": "2022-03-20T18:24:18.800151Z",
     "iopub.status.busy": "2022-03-20T18:24:18.794677Z",
     "iopub.status.idle": "2022-03-20T18:24:18.803515Z",
     "shell.execute_reply": "2022-03-20T18:24:18.803912Z",
     "shell.execute_reply.started": "2022-03-20T17:09:33.270466Z"
    },
    "papermill": {
     "duration": 0.044947,
     "end_time": "2022-03-20T18:24:18.804074",
     "exception": false,
     "start_time": "2022-03-20T18:24:18.759127",
     "status": "completed"
    },
    "tags": []
   },
   "outputs": [
    {
     "name": "stdout",
     "output_type": "stream",
     "text": [
      "x_train:(2500, 46926)\n",
      "x_test:(2500, 11732)\n",
      "y_train:(1, 46926)\n",
      "y_test:(1, 11732)\n"
     ]
    }
   ],
   "source": [
    "x_train = X_train.T\n",
    "x_test = X_test.T\n",
    "y_train = Y_train.T\n",
    "y_test = Y_test.T\n",
    "print(\"x_train:{}\\nx_test:{}\\ny_train:{}\\ny_test:{}\".format(x_train.shape,x_test.shape,y_train.shape,y_test.shape))"
   ]
  },
  {
   "cell_type": "markdown",
   "id": "1a08852c",
   "metadata": {
    "papermill": {
     "duration": 0.032226,
     "end_time": "2022-03-20T18:24:18.868954",
     "exception": false,
     "start_time": "2022-03-20T18:24:18.836728",
     "status": "completed"
    },
    "tags": []
   },
   "source": [
    "<a id=\"9\"></a>\n",
    "## Logistic Regression Without Sklearn\n",
    "\n",
    "**Firstly,we will create our logistic regression without using libraries**"
   ]
  },
  {
   "cell_type": "markdown",
   "id": "174ef797",
   "metadata": {
    "papermill": {
     "duration": 0.032695,
     "end_time": "2022-03-20T18:24:18.934363",
     "exception": false,
     "start_time": "2022-03-20T18:24:18.901668",
     "status": "completed"
    },
    "tags": []
   },
   "source": [
    "<a id=\"11\"></a>\n",
    "* ## Weights and Bias Initializing"
   ]
  },
  {
   "cell_type": "code",
   "execution_count": 20,
   "id": "207924c1",
   "metadata": {
    "execution": {
     "iopub.execute_input": "2022-03-20T18:24:19.005861Z",
     "iopub.status.busy": "2022-03-20T18:24:19.005263Z",
     "iopub.status.idle": "2022-03-20T18:24:19.006863Z",
     "shell.execute_reply": "2022-03-20T18:24:19.007382Z",
     "shell.execute_reply.started": "2022-03-20T16:58:29.53957Z"
    },
    "papermill": {
     "duration": 0.039223,
     "end_time": "2022-03-20T18:24:19.007536",
     "exception": false,
     "start_time": "2022-03-20T18:24:18.968313",
     "status": "completed"
    },
    "tags": []
   },
   "outputs": [],
   "source": [
    "def w_b_initialize(dimension):\n",
    "    w = np.full((dimension,1),0.01)\n",
    "    b = 0.0\n",
    "    return w, b\n",
    "    "
   ]
  },
  {
   "cell_type": "markdown",
   "id": "ca586ba2",
   "metadata": {
    "papermill": {
     "duration": 0.033309,
     "end_time": "2022-03-20T18:24:19.073482",
     "exception": false,
     "start_time": "2022-03-20T18:24:19.040173",
     "status": "completed"
    },
    "tags": []
   },
   "source": [
    "<a id = \"10\"></a>\n",
    "* ### Sigmoid Function"
   ]
  },
  {
   "cell_type": "code",
   "execution_count": 21,
   "id": "0b2cc7e5",
   "metadata": {
    "execution": {
     "iopub.execute_input": "2022-03-20T18:24:19.141013Z",
     "iopub.status.busy": "2022-03-20T18:24:19.140409Z",
     "iopub.status.idle": "2022-03-20T18:24:19.143540Z",
     "shell.execute_reply": "2022-03-20T18:24:19.144029Z",
     "shell.execute_reply.started": "2022-03-20T16:55:24.624258Z"
    },
    "papermill": {
     "duration": 0.038443,
     "end_time": "2022-03-20T18:24:19.144211",
     "exception": false,
     "start_time": "2022-03-20T18:24:19.105768",
     "status": "completed"
    },
    "tags": []
   },
   "outputs": [],
   "source": [
    "def sigmoid(z):\n",
    "    y_head = 1/(1+np.exp(-z))\n",
    "    return y_head"
   ]
  },
  {
   "cell_type": "markdown",
   "id": "e925941b",
   "metadata": {
    "papermill": {
     "duration": 0.032796,
     "end_time": "2022-03-20T18:24:19.209852",
     "exception": false,
     "start_time": "2022-03-20T18:24:19.177056",
     "status": "completed"
    },
    "tags": []
   },
   "source": [
    "<a id=\"12\"></a>\n",
    "* ### Forward Backward Propagation\n",
    "\n",
    "*We doing forward backward propagation because of optimum value of b,w. We calculate cost function. To backward propagation, we use gradient descent method. *"
   ]
  },
  {
   "cell_type": "code",
   "execution_count": 22,
   "id": "b0a386c4",
   "metadata": {
    "execution": {
     "iopub.execute_input": "2022-03-20T18:24:19.277678Z",
     "iopub.status.busy": "2022-03-20T18:24:19.277099Z",
     "iopub.status.idle": "2022-03-20T18:24:19.282755Z",
     "shell.execute_reply": "2022-03-20T18:24:19.283244Z",
     "shell.execute_reply.started": "2022-03-20T17:17:47.025573Z"
    },
    "papermill": {
     "duration": 0.041009,
     "end_time": "2022-03-20T18:24:19.283400",
     "exception": false,
     "start_time": "2022-03-20T18:24:19.242391",
     "status": "completed"
    },
    "tags": []
   },
   "outputs": [],
   "source": [
    "def forward_backward_propagation(w,b,x_train,y_train):\n",
    "    # Forward Propagation\n",
    "    z = np.dot(w.T,x_train) + b\n",
    "    y_head = sigmoid(z)\n",
    "    loss = -(1-y_train)*np.log(1-y_head)-y_train*np.log(y_head)\n",
    "    cost = np.sum(loss)/ x_train.shape[1] # x_train.shape[1] for scaling\n",
    "    \n",
    "    # Backward Propagation\n",
    "    derivative_weight = (np.dot(x_train,((y_head-y_train).T)))/x_train.shape[1]# x_train.shape[1] for scaling\n",
    "    derivative_bias = np.sum(y_head-y_train)/x_train.shape[1]# x_train.shape[1] for scaling\n",
    "    \n",
    "    gradients = {\"derivative_weight\":derivative_weight,\"derivative_bias\":derivative_bias}\n",
    "    \n",
    "    return cost, gradients\n",
    "    "
   ]
  },
  {
   "cell_type": "markdown",
   "id": "d3cd08fe",
   "metadata": {
    "papermill": {
     "duration": 0.032072,
     "end_time": "2022-03-20T18:24:19.348368",
     "exception": false,
     "start_time": "2022-03-20T18:24:19.316296",
     "status": "completed"
    },
    "tags": []
   },
   "source": [
    "<a id=\"13\"></a>\n",
    "* ### Update\n",
    "\n",
    "**With this function we will update our weights,bias values and make a graph about cost**"
   ]
  },
  {
   "cell_type": "code",
   "execution_count": 23,
   "id": "97f6386f",
   "metadata": {
    "execution": {
     "iopub.execute_input": "2022-03-20T18:24:19.416150Z",
     "iopub.status.busy": "2022-03-20T18:24:19.415565Z",
     "iopub.status.idle": "2022-03-20T18:24:19.421603Z",
     "shell.execute_reply": "2022-03-20T18:24:19.422044Z",
     "shell.execute_reply.started": "2022-03-20T18:00:41.691425Z"
    },
    "papermill": {
     "duration": 0.041497,
     "end_time": "2022-03-20T18:24:19.422214",
     "exception": false,
     "start_time": "2022-03-20T18:24:19.380717",
     "status": "completed"
    },
    "tags": []
   },
   "outputs": [],
   "source": [
    "def update(w, b, x_train, y_train, learning_rate, num_iterations):\n",
    "    cost_list = []\n",
    "    cost_list2 = []\n",
    "    index = []\n",
    "    # update parameters is num_iterations times\n",
    "    for i in range(num_iterations):\n",
    "        cost, gradients = forward_backward_propagation(w,b,x_train,y_train)\n",
    "        \n",
    "        cost_list.append(cost)\n",
    "        \n",
    "        w = w - learning_rate * gradients[\"derivative_weight\"]\n",
    "        b = b - learning_rate * gradients[\"derivative_bias\"]\n",
    "        if i %50 ==0:\n",
    "            index.append(i)\n",
    "            cost_list2.append(cost)\n",
    "            print(\"After {} iteration cost: {}\".format(i,cost))\n",
    "    \n",
    "    parameters = {\"weights\":w,\"bias\":b}\n",
    "    plt.plot(index,cost_list2)\n",
    "    plt.xlabel(\"Number of Iteration\")\n",
    "    plt.ylabel(\"Cost\")\n",
    "    plt.show()\n",
    "    \n",
    "    return parameters     "
   ]
  },
  {
   "cell_type": "markdown",
   "id": "6fbeee85",
   "metadata": {
    "papermill": {
     "duration": 0.032606,
     "end_time": "2022-03-20T18:24:19.488119",
     "exception": false,
     "start_time": "2022-03-20T18:24:19.455513",
     "status": "completed"
    },
    "tags": []
   },
   "source": [
    "<a id=\"14\"></a>\n",
    "* ### Predict"
   ]
  },
  {
   "cell_type": "code",
   "execution_count": 24,
   "id": "069c4351",
   "metadata": {
    "execution": {
     "iopub.execute_input": "2022-03-20T18:24:19.558887Z",
     "iopub.status.busy": "2022-03-20T18:24:19.558327Z",
     "iopub.status.idle": "2022-03-20T18:24:19.563757Z",
     "shell.execute_reply": "2022-03-20T18:24:19.564273Z",
     "shell.execute_reply.started": "2022-03-20T17:59:33.086437Z"
    },
    "papermill": {
     "duration": 0.041235,
     "end_time": "2022-03-20T18:24:19.564433",
     "exception": false,
     "start_time": "2022-03-20T18:24:19.523198",
     "status": "completed"
    },
    "tags": []
   },
   "outputs": [],
   "source": [
    "def predict(w, b, x_test):\n",
    "    z = np.dot(w.T,x_test) + b\n",
    "    y_head = sigmoid(z)\n",
    "    \n",
    "    y_prediction  = np.zeros((1,x_test.shape[1]))\n",
    "    \n",
    "    for i in range(x_test.shape[1]):\n",
    "        if y_head[0,i] <= 0.5:\n",
    "            y_prediction[0:i] == 0\n",
    "        else:\n",
    "            y_prediction[0:i] == 1\n",
    "            \n",
    "    return y_prediction\n",
    "    "
   ]
  },
  {
   "cell_type": "markdown",
   "id": "e8e64e36",
   "metadata": {
    "papermill": {
     "duration": 0.032187,
     "end_time": "2022-03-20T18:24:19.629549",
     "exception": false,
     "start_time": "2022-03-20T18:24:19.597362",
     "status": "completed"
    },
    "tags": []
   },
   "source": [
    "<a id = \"15\"></a>\n",
    "* ### Logistic Regression"
   ]
  },
  {
   "cell_type": "code",
   "execution_count": 25,
   "id": "ee0e8fc9",
   "metadata": {
    "execution": {
     "iopub.execute_input": "2022-03-20T18:24:19.697156Z",
     "iopub.status.busy": "2022-03-20T18:24:19.696595Z",
     "iopub.status.idle": "2022-03-20T18:24:19.701825Z",
     "shell.execute_reply": "2022-03-20T18:24:19.702358Z",
     "shell.execute_reply.started": "2022-03-20T18:05:00.454728Z"
    },
    "papermill": {
     "duration": 0.040613,
     "end_time": "2022-03-20T18:24:19.702514",
     "exception": false,
     "start_time": "2022-03-20T18:24:19.661901",
     "status": "completed"
    },
    "tags": []
   },
   "outputs": [],
   "source": [
    "def logistic_regression(x_train, y_train, x_test, y_test, learning_rate, num_iterations):\n",
    "\n",
    "    w,b = w_b_initialize(x_train.shape[0])\n",
    "\n",
    "    parameters = update(w, b, x_train, y_train, learning_rate, num_iterations)\n",
    "\n",
    "    y_prediction_test = predict(parameters[\"weights\"], parameters[\"bias\"], x_test)\n",
    "    y_prediction_train = predict(parameters[\"weights\"], parameters[\"bias\"], x_train)\n",
    "\n",
    "    test_accuracy = 100 - np.mean(np.abs(y_prediction_train - y_train)*100)\n",
    "    train_accuracy = 100 - np.mean(np.abs(y_prediction_test - y_test)*100)\n",
    "    \n",
    "    print(\"Test Accuracy :%{:.2f} \".format(test_accuracy))\n",
    "    print(\"Train Accuracy:%{:.2f} \".format(train_accuracy))\n",
    "    "
   ]
  },
  {
   "cell_type": "markdown",
   "id": "bb4b156d",
   "metadata": {
    "papermill": {
     "duration": 0.032211,
     "end_time": "2022-03-20T18:24:19.767163",
     "exception": false,
     "start_time": "2022-03-20T18:24:19.734952",
     "status": "completed"
    },
    "tags": []
   },
   "source": [
    "<a id=\"16\"></a>\n",
    "* ### Time to See Results"
   ]
  },
  {
   "cell_type": "code",
   "execution_count": 26,
   "id": "e3d7f919",
   "metadata": {
    "execution": {
     "iopub.execute_input": "2022-03-20T18:24:19.834820Z",
     "iopub.status.busy": "2022-03-20T18:24:19.834259Z",
     "iopub.status.idle": "2022-03-20T18:25:05.600095Z",
     "shell.execute_reply": "2022-03-20T18:25:05.600675Z",
     "shell.execute_reply.started": "2022-03-20T18:05:01.654108Z"
    },
    "papermill": {
     "duration": 45.80143,
     "end_time": "2022-03-20T18:25:05.601024",
     "exception": false,
     "start_time": "2022-03-20T18:24:19.799594",
     "status": "completed"
    },
    "tags": []
   },
   "outputs": [
    {
     "name": "stdout",
     "output_type": "stream",
     "text": [
      "After 0 iteration cost: 6.631161351193032\n",
      "After 50 iteration cost: 0.6027747152709496\n",
      "After 100 iteration cost: 0.5749823253849069\n",
      "After 150 iteration cost: 0.5558260203884584\n",
      "After 200 iteration cost: 0.5407863315166422\n",
      "After 250 iteration cost: 0.5283581127624315\n",
      "After 300 iteration cost: 0.5177995064928668\n",
      "After 350 iteration cost: 0.5086569367545345\n",
      "After 400 iteration cost: 0.5006236653206889\n",
      "After 450 iteration cost: 0.4934813113243364\n"
     ]
    },
    {
     "data": {
      "image/png": "[encoded data removed]",
      "text/plain": [
       "<Figure size 432x288 with 1 Axes>"
      ]
     },
     "metadata": {
      "needs_background": "light"
     },
     "output_type": "display_data"
    },
    {
     "name": "stdout",
     "output_type": "stream",
     "text": [
      "Test Accuracy :%49.59 \n",
      "Train Accuracy:%49.57 \n"
     ]
    }
   ],
   "source": [
    "logistic_regression(x_train, y_train, x_test, y_test, 0.01, 500)"
   ]
  },
  {
   "cell_type": "markdown",
   "id": "77567fba",
   "metadata": {
    "papermill": {
     "duration": 0.037157,
     "end_time": "2022-03-20T18:25:05.675434",
     "exception": false,
     "start_time": "2022-03-20T18:25:05.638277",
     "status": "completed"
    },
    "tags": []
   },
   "source": [
    "<a id=\"17\"></a>\n",
    "## Logistic Regression with Sklearn"
   ]
  },
  {
   "cell_type": "code",
   "execution_count": 27,
   "id": "27a3b089",
   "metadata": {
    "execution": {
     "iopub.execute_input": "2022-03-20T18:25:05.755279Z",
     "iopub.status.busy": "2022-03-20T18:25:05.754638Z",
     "iopub.status.idle": "2022-03-20T18:25:05.830922Z",
     "shell.execute_reply": "2022-03-20T18:25:05.831481Z",
     "shell.execute_reply.started": "2022-03-20T18:08:52.529721Z"
    },
    "papermill": {
     "duration": 0.119664,
     "end_time": "2022-03-20T18:25:05.831649",
     "exception": false,
     "start_time": "2022-03-20T18:25:05.711985",
     "status": "completed"
    },
    "tags": []
   },
   "outputs": [],
   "source": [
    "from sklearn.linear_model import LogisticRegression\n",
    "from sklearn.metrics import accuracy_score\n"
   ]
  },
  {
   "cell_type": "code",
   "execution_count": 28,
   "id": "9161e0f6",
   "metadata": {
    "execution": {
     "iopub.execute_input": "2022-03-20T18:25:05.909224Z",
     "iopub.status.busy": "2022-03-20T18:25:05.908289Z",
     "iopub.status.idle": "2022-03-20T18:25:16.351071Z",
     "shell.execute_reply": "2022-03-20T18:25:16.351978Z",
     "shell.execute_reply.started": "2022-03-20T18:09:42.851107Z"
    },
    "papermill": {
     "duration": 10.483932,
     "end_time": "2022-03-20T18:25:16.352268",
     "exception": false,
     "start_time": "2022-03-20T18:25:05.868336",
     "status": "completed"
    },
    "tags": []
   },
   "outputs": [],
   "source": [
    "log_reg = LogisticRegression().fit(X_train,Y_train)"
   ]
  },
  {
   "cell_type": "code",
   "execution_count": 29,
   "id": "a4683394",
   "metadata": {
    "execution": {
     "iopub.execute_input": "2022-03-20T18:25:16.487387Z",
     "iopub.status.busy": "2022-03-20T18:25:16.486776Z",
     "iopub.status.idle": "2022-03-20T18:25:16.663552Z",
     "shell.execute_reply": "2022-03-20T18:25:16.662029Z",
     "shell.execute_reply.started": "2022-03-20T18:14:49.306314Z"
    },
    "papermill": {
     "duration": 0.237883,
     "end_time": "2022-03-20T18:25:16.663784",
     "exception": false,
     "start_time": "2022-03-20T18:25:16.425901",
     "status": "completed"
    },
    "tags": []
   },
   "outputs": [
    {
     "name": "stdout",
     "output_type": "stream",
     "text": [
      "Accuracy Score Train: %86.27 \n",
      "Accuracy Score Test: %86.18 \n"
     ]
    }
   ],
   "source": [
    "print(\"Accuracy Score Train: %{:.2f} \".format(accuracy_score(log_reg.predict(X_train),Y_train)*100))\n",
    "print(\"Accuracy Score Test: %{:.2f} \".format(accuracy_score(log_reg.predict(X_test),Y_test)*100))"
   ]
  }
 ],
 "metadata": {
  "kernelspec": {
   "display_name": "Python 3 (ipykernel)",
   "language": "python",
   "name": "python3"
  },
  "language_info": {
   "codemirror_mode": {
    "name": "ipython",
    "version": 3
   },
   "file_extension": ".py",
   "mimetype": "text/x-python",
   "name": "python",
   "nbconvert_exporter": "python",
   "pygments_lexer": "ipython3",
   "version": "3.9.7"
  },
  "papermill": {
   "default_parameters": {},
   "duration": 451.912212,
   "end_time": "2022-03-20T18:25:17.856138",
   "environment_variables": {},
   "exception": null,
   "input_path": "__notebook__.ipynb",
   "output_path": "__notebook__.ipynb",
   "parameters": {},
   "start_time": "2022-03-20T18:17:45.943926",
   "version": "2.3.3"
  }
 },
 "nbformat": 4,
 "nbformat_minor": 5
}
